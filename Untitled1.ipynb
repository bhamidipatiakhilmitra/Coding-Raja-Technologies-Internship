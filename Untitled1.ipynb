{
  "nbformat": 4,
  "nbformat_minor": 0,
  "metadata": {
    "colab": {
      "provenance": [],
      "authorship_tag": "ABX9TyN1k9MyVONJc5rQKBUuiMQb",
      "include_colab_link": true
    },
    "kernelspec": {
      "name": "python3",
      "display_name": "Python 3"
    },
    "language_info": {
      "name": "python"
    }
  },
  "cells": [
    {
      "cell_type": "markdown",
      "metadata": {
        "id": "view-in-github",
        "colab_type": "text"
      },
      "source": [
        "<a href=\"https://colab.research.google.com/github/bhamidipatiakhilmitra/Coding-Raja-Technologies-Internship/blob/main/Untitled1.ipynb\" target=\"_parent\"><img src=\"https://colab.research.google.com/assets/colab-badge.svg\" alt=\"Open In Colab\"/></a>"
      ]
    },
    {
      "cell_type": "markdown",
      "source": [
        "# New Section"
      ],
      "metadata": {
        "id": "7hjhAnTRsMkP"
      }
    },
    {
      "cell_type": "code",
      "source": [
        "import pandas as pd\n",
        "import numpy as np\n",
        "import matplotlib.pyplot as plt\n",
        "from sklearn.preprocessing import LabelEncoder\n",
        "df=pd.read_csv(\"homeprices.csv\")\n",
        "df\n",
        "inputs=df.drop('bedrooms',axis=\"columns\")\n",
        "inputs\n",
        "le_area=LabelEncoder()\n",
        "le_age=LabelEncoder()\n",
        "le_price=LabelEncoder()\n",
        "inputs['area_m']=le_area.fit_transform(inputs['area'])\n",
        "inputs['age_m']=le_area.fit_transform(inputs['age'])\n",
        "inputs['price_m']=le_area.fit_transform(inputs['price'])\n",
        "inputs.head()\n",
        "inputs_n=inputs.drop(['area','age','price'],axis=\"columns\")\n",
        "inputs_n\n",
        "\n",
        "#SVM\n",
        "from sklearn.datasets import load_iris\n",
        "iris=load_iris()\n",
        "dir(iris)\n",
        "df=pd.DataFrame(iris.data)\n",
        "df.head()\n",
        "\n",
        "#RANDOM FOREST ALGORITHM\n",
        "from sklearn.linear_model import LogisticRegression\n",
        "from sklearn.model_selection import train_test_split\n",
        "from sklearn.svm import SVC\n",
        "from sklearn.ensemble import RandomForestClassifier\n",
        "import numpy as np\n",
        "from sklearn.datasets import load_digits\n",
        "digits=load_digits()\n",
        "dir(digits)\n",
        "import matplotlib.pyplot as plt\n",
        "plt.gray()\n",
        "X_train,X_test,y_train,y_test=train_test_split(digits.data,digits.target,test_size=0.3)\n",
        "rf=RandomForestClassifier()\n",
        "rf.fit(X_train,y_train)\n",
        "rf.score(X_test,y_test)\n",
        "svm=SVC()\n",
        "svm.fit(X_train,y_train)\n",
        "svm.score(X_test,y_test) #svc performed well\n",
        "from sklearn.model_selection import KFold\n",
        "KF=KFold(n_splits=5)\n",
        "KF"
      ],
      "metadata": {
        "colab": {
          "base_uri": "https://localhost:8080/",
          "height": 53
        },
        "id": "drGKe4fP9sQx",
        "outputId": "e871e8a6-d834-4126-a64e-687181d0c642"
      },
      "execution_count": 42,
      "outputs": [
        {
          "output_type": "execute_result",
          "data": {
            "text/plain": [
              "KFold(n_splits=5, random_state=None, shuffle=False)"
            ]
          },
          "metadata": {},
          "execution_count": 42
        },
        {
          "output_type": "display_data",
          "data": {
            "text/plain": [
              "<Figure size 640x480 with 0 Axes>"
            ]
          },
          "metadata": {}
        }
      ]
    },
    {
      "cell_type": "code",
      "source": [],
      "metadata": {
        "id": "9yWlwfz_Y104"
      },
      "execution_count": null,
      "outputs": []
    }
  ]
}